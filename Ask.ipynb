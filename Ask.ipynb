{
  "nbformat": 4,
  "nbformat_minor": 0,
  "metadata": {
    "colab": {
      "name": "Ask.ipynb",
      "provenance": []
    },
    "kernelspec": {
      "name": "python3",
      "display_name": "Python 3"
    },
    "language_info": {
      "name": "python"
    }
  },
  "cells": [
    {
      "cell_type": "code",
      "execution_count": 2,
      "metadata": {
        "colab": {
          "base_uri": "https://localhost:8080/"
        },
        "id": "JswHald7i-TT",
        "outputId": "cca5f480-b075-46b2-c5e7-35ec7f6148d4"
      },
      "outputs": [
        {
          "output_type": "stream",
          "name": "stdout",
          "text": [
            "Start->26->12->End\n"
          ]
        }
      ],
      "source": [
        "# Question 3a(i),(ii)\n",
        "\n",
        "class Node:\n",
        "  def __init__(self, data):\n",
        "    self.left_node = None\n",
        "    self.right_node = None\n",
        "    self.data = data\n",
        "\n",
        "\n",
        "class Path:\n",
        "  def searchPath(self, key):\n",
        "    \n",
        "    p = Start\n",
        "\n",
        "    while p is not None and p.data != key:\n",
        "      if p.left_node is not None:\n",
        "        print(p.data,end=\"->\")\n",
        "        p = p.left_node\n",
        "\n",
        "      elif p.right_node is not None:\n",
        "        print(p.data,end=\"->\")\n",
        "        p = p.right_node\n",
        "    \n",
        "    print(p.data)\n",
        "\n",
        "  def searchAllPath(self):\n",
        "    pass\n",
        "\n",
        "  def searchPathByWeight(self):\n",
        "    pass\n",
        "    \n",
        "Start = Node(\"Start\")\n",
        "b = Node(26)\n",
        "d = Node(12)\n",
        "e = Node(96)\n",
        "End = Node(\"End\")\n",
        "\n",
        "Start.left_node = b\n",
        "b.left_node = d\n",
        "b.right_node = e\n",
        "d.right_node = End\n",
        "e.left_node = End\n",
        "\n",
        "Search = Path()\n",
        "Search.searchPath(\"End\")"
      ]
    }
  ]
}